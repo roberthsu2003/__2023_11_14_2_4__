{
 "cells": [
  {
   "cell_type": "code",
   "execution_count": null,
   "metadata": {},
   "outputs": [],
   "source": [
    "with open('names.txt',mode='r',encoding='utf-8') as file:\n",
    "    names:str = file.read()\n",
    "\n",
    "nameList:list[str] = names.split('\\n')\n",
    "\n",
    "for name in nameList:\n",
    "    print(name)"
   ]
  },
  {
   "cell_type": "code",
   "execution_count": 8,
   "metadata": {},
   "outputs": [
    {
     "name": "stdout",
     "output_type": "stream",
     "text": [
      "命名選取器(請輸入1~10)您有以下的建議名字:\n",
      "['鄧亭聿', '景歡燦', '王人仰']\n"
     ]
    }
   ],
   "source": [
    "import random\n",
    "import pyinputplus as pyip\n",
    "\n",
    "numbers:int = pyip.inputInt(\"命名選取器(請輸入1~10)\",min=1,max=10)\n",
    "print(\"您有以下的建議名字:\")\n",
    "namePart:list[str] = random.choices(nameList,k=numbers)\n",
    "print(namePart)"
   ]
  },
  {
   "cell_type": "code",
   "execution_count": 9,
   "metadata": {},
   "outputs": [
    {
     "data": {
      "text/plain": [
       "[56, 78, 92, 87, 95]"
      ]
     },
     "execution_count": 9,
     "metadata": {},
     "output_type": "execute_result"
    }
   ],
   "source": [
    "[56,78,92,87,95]"
   ]
  },
  {
   "cell_type": "code",
   "execution_count": 11,
   "metadata": {},
   "outputs": [
    {
     "data": {
      "text/plain": [
       "[57, 55, 59, 79, 49]"
      ]
     },
     "execution_count": 11,
     "metadata": {},
     "output_type": "execute_result"
    }
   ],
   "source": [
    "import random\n",
    "[random.randint(40,100),random.randint(40,100),random.randint(40,100),random.randint(40,100),random.randint(40,100)]"
   ]
  },
  {
   "cell_type": "code",
   "execution_count": 15,
   "metadata": {},
   "outputs": [
    {
     "data": {
      "text/plain": [
       "[70, 59, 41, 91, 68]"
      ]
     },
     "execution_count": 15,
     "metadata": {},
     "output_type": "execute_result"
    }
   ],
   "source": [
    "#建立一個學生的分數\n",
    "stu:list[int] = []\n",
    "scores_nums:int = 5\n",
    "for i in range(scores_nums):\n",
    "    stu.append(random.randint(40,100))\n",
    "stu"
   ]
  },
  {
   "cell_type": "code",
   "execution_count": 23,
   "metadata": {},
   "outputs": [
    {
     "name": "stdout",
     "output_type": "stream",
     "text": [
      "請輸入學生的人數(1~50):30\n",
      "請輸入科目數(1~7):5\n"
     ]
    },
    {
     "data": {
      "text/plain": [
       "[['陳得映', 99, 56, 66, 73, 51],\n",
       " ['姜琬婷', 100, 57, 78, 48, 51],\n",
       " ['林玉佩', 94, 78, 52, 55, 53],\n",
       " ['陳怡伶', 71, 90, 92, 98, 69],\n",
       " ['楊韻如', 54, 62, 85, 88, 45],\n",
       " ['張慧君', 99, 49, 80, 71, 71],\n",
       " ['葉祖雄', 100, 63, 83, 96, 93],\n",
       " ['林世城', 64, 70, 65, 64, 95],\n",
       " ['劉林中', 95, 91, 60, 95, 99],\n",
       " ['林志成', 87, 87, 50, 42, 84],\n",
       " ['李佳彥', 95, 68, 79, 53, 94],\n",
       " ['黃善迪', 45, 85, 77, 81, 89],\n",
       " ['劉嘉泰', 90, 88, 65, 51, 85],\n",
       " ['劉昀天', 47, 92, 48, 93, 57],\n",
       " ['杜儀鳳', 57, 85, 68, 55, 85],\n",
       " ['胡姿婷', 87, 49, 96, 95, 79],\n",
       " ['姜琬婷', 55, 80, 46, 96, 41],\n",
       " ['林詠斌', 74, 87, 53, 44, 58],\n",
       " ['葉祖雄', 91, 80, 57, 67, 48],\n",
       " ['趙家豪', 90, 92, 45, 76, 79],\n",
       " ['王德城', 64, 86, 72, 46, 67],\n",
       " ['陳姵彬', 50, 82, 84, 48, 89],\n",
       " ['朱彥志', 66, 40, 65, 60, 73],\n",
       " ['馮芳如', 96, 98, 63, 89, 72],\n",
       " ['楊韻如', 98, 61, 84, 54, 49],\n",
       " ['楊綺芬', 64, 55, 71, 41, 87],\n",
       " ['唐雪豪', 75, 55, 74, 61, 66],\n",
       " ['蘇婷婷', 46, 76, 73, 53, 46],\n",
       " ['高士凱', 91, 67, 68, 58, 45],\n",
       " ['林世城', 62, 61, 63, 42, 95]]"
      ]
     },
     "execution_count": 23,
     "metadata": {},
     "output_type": "execute_result"
    }
   ],
   "source": [
    "student_nums:int = pyip.inputInt(\"請輸入學生的人數(1~50):\",min=1,max=50)\n",
    "print(student_nums)\n",
    "scores_nums:int = pyip.inputInt(\"請輸入科目數(1~7):\",min=1,max=7)\n",
    "print(scores_nums)\n",
    "\n",
    "students:list[list] = []\n",
    "\n",
    "names:list[str] = random.choices(nameList,k=student_nums)\n",
    "for name in names:\n",
    "    stu:list[int|str] = []\n",
    "    stu.append(name)    \n",
    "    for i in range(scores_nums):\n",
    "        stu.append(random.randint(40,100))\n",
    "    students.append(stu)\n",
    "\n",
    "students"
   ]
  }
 ],
 "metadata": {
  "kernelspec": {
   "display_name": "Python 3",
   "language": "python",
   "name": "python3"
  },
  "language_info": {
   "codemirror_mode": {
    "name": "ipython",
    "version": 3
   },
   "file_extension": ".py",
   "mimetype": "text/x-python",
   "name": "python",
   "nbconvert_exporter": "python",
   "pygments_lexer": "ipython3",
   "version": "3.10.13"
  }
 },
 "nbformat": 4,
 "nbformat_minor": 2
}
