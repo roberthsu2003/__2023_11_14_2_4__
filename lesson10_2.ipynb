{
 "cells": [
  {
   "cell_type": "code",
   "execution_count": null,
   "metadata": {},
   "outputs": [],
   "source": [
    "with open('names.txt',mode='r',encoding='utf-8') as file:\n",
    "    names:str = file.read()\n",
    "\n",
    "nameList:list[str] = names.split('\\n')\n",
    "\n",
    "for name in nameList:\n",
    "    print(name)"
   ]
  },
  {
   "cell_type": "code",
   "execution_count": 8,
   "metadata": {},
   "outputs": [
    {
     "name": "stdout",
     "output_type": "stream",
     "text": [
      "命名選取器(請輸入1~10)您有以下的建議名字:\n",
      "['鄧亭聿', '景歡燦', '王人仰']\n"
     ]
    }
   ],
   "source": [
    "import random\n",
    "import pyinputplus as pyip\n",
    "\n",
    "numbers:int = pyip.inputInt(\"命名選取器(請輸入1~10)\",min=1,max=10)\n",
    "print(\"您有以下的建議名字:\")\n",
    "namePart:list[str] = random.choices(nameList,k=numbers)\n",
    "print(namePart)"
   ]
  },
  {
   "cell_type": "code",
   "execution_count": 9,
   "metadata": {},
   "outputs": [
    {
     "data": {
      "text/plain": [
       "[56, 78, 92, 87, 95]"
      ]
     },
     "execution_count": 9,
     "metadata": {},
     "output_type": "execute_result"
    }
   ],
   "source": [
    "[56,78,92,87,95]"
   ]
  },
  {
   "cell_type": "code",
   "execution_count": 11,
   "metadata": {},
   "outputs": [
    {
     "data": {
      "text/plain": [
       "[57, 55, 59, 79, 49]"
      ]
     },
     "execution_count": 11,
     "metadata": {},
     "output_type": "execute_result"
    }
   ],
   "source": [
    "import random\n",
    "[random.randint(40,100),random.randint(40,100),random.randint(40,100),random.randint(40,100),random.randint(40,100)]"
   ]
  },
  {
   "cell_type": "code",
   "execution_count": 15,
   "metadata": {},
   "outputs": [
    {
     "data": {
      "text/plain": [
       "[70, 59, 41, 91, 68]"
      ]
     },
     "execution_count": 15,
     "metadata": {},
     "output_type": "execute_result"
    }
   ],
   "source": [
    "#建立一個學生的分數\n",
    "stu:list[int] = []\n",
    "scores_nums:int = 5\n",
    "for i in range(scores_nums):\n",
    "    stu.append(random.randint(40,100))\n",
    "stu"
   ]
  },
  {
   "cell_type": "code",
   "execution_count": 22,
   "metadata": {},
   "outputs": [
    {
     "name": "stdout",
     "output_type": "stream",
     "text": [
      "請輸入學生的人數(1~50):50\n",
      "請輸入科目數(1~7):3\n",
      "['劉慧君', 58, 85, 86]\n",
      "['張雅芬', 94, 41, 55]\n",
      "['張天亨', 73, 76, 52]\n",
      "['陳凱翔', 86, 77, 99]\n",
      "['林向鈺', 51, 88, 58]\n",
      "['林希啟', 57, 89, 45]\n",
      "['黃江旭', 96, 75, 87]\n",
      "['林昱芳', 92, 41, 53]\n",
      "['劉萬季', 96, 99, 90]\n",
      "['張婕妤', 85, 97, 72]\n",
      "['趙偉銘', 43, 96, 99]\n",
      "['鄭孟芳', 72, 77, 45]\n",
      "['鄭奇翰', 42, 75, 65]\n",
      "['楊韻如', 79, 60, 59]\n",
      "['劉旭士', 46, 81, 40]\n",
      "['王惠皓', 65, 100, 81]\n",
      "['王泓泰', 42, 40, 95]\n",
      "['藍哲嘉', 93, 46, 70]\n",
      "['黃名明', 78, 83, 83]\n",
      "['楊韻如', 72, 62, 58]\n",
      "['林俊翔', 50, 50, 52]\n",
      "['鄧亭聿', 85, 55, 70]\n",
      "['高士凱', 65, 49, 63]\n",
      "['郭致恬', 78, 85, 41]\n",
      "['方筠紹', 89, 65, 41]\n",
      "['李美洋', 100, 73, 63]\n",
      "['謝哲維', 43, 90, 61]\n",
      "['臧怡君', 61, 96, 56]\n",
      "['陳冠霞', 54, 90, 57]\n",
      "['黃政甫', 97, 54, 45]\n",
      "['劉旭士', 87, 72, 50]\n",
      "['王雅慧', 98, 41, 50]\n",
      "['鄧亭聿', 89, 82, 100]\n",
      "['林珈發', 60, 53, 58]\n",
      "['王志謙', 63, 83, 75]\n",
      "['楊健麟', 82, 99, 53]\n",
      "['林康亮', 73, 56, 86]\n",
      "['蘇凡菁', 84, 99, 79]\n",
      "['張伊映', 73, 47, 94]\n",
      "['林麗萍', 77, 48, 82]\n",
      "['張凱妮', 58, 96, 99]\n",
      "['盧文啟', 70, 95, 68]\n",
      "['龔姵君', 68, 80, 96]\n",
      "['戴萱能', 67, 47, 75]\n",
      "['翁均安', 49, 84, 60]\n",
      "['鄭佳玲', 86, 54, 85]\n",
      "['黃嘉琪', 46, 59, 54]\n",
      "['楊韻如', 91, 70, 40]\n",
      "['鞠冠宇', 53, 93, 96]\n",
      "['李雅怡', 55, 97, 57]\n"
     ]
    }
   ],
   "source": [
    "student_nums:int = pyip.inputInt(\"請輸入學生的人數(1~50):\",min=1,max=50)\n",
    "print(student_nums)\n",
    "scores_nums:int = pyip.inputInt(\"請輸入科目數(1~7):\",min=1,max=7)\n",
    "print(scores_nums)\n",
    "\n",
    "names:list[str] = random.choices(nameList,k=student_nums)\n",
    "for name in names:\n",
    "    stu:list[int|str] = []\n",
    "    stu.append(name)    \n",
    "    for i in range(scores_nums):\n",
    "        stu.append(random.randint(40,100))\n",
    "    print(stu)"
   ]
  }
 ],
 "metadata": {
  "kernelspec": {
   "display_name": "Python 3",
   "language": "python",
   "name": "python3"
  },
  "language_info": {
   "codemirror_mode": {
    "name": "ipython",
    "version": 3
   },
   "file_extension": ".py",
   "mimetype": "text/x-python",
   "name": "python",
   "nbconvert_exporter": "python",
   "pygments_lexer": "ipython3",
   "version": "3.10.13"
  }
 },
 "nbformat": 4,
 "nbformat_minor": 2
}
