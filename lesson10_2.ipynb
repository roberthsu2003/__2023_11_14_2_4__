{
 "cells": [
  {
   "cell_type": "code",
   "execution_count": null,
   "metadata": {},
   "outputs": [],
   "source": [
    "with open('names.txt',mode='r',encoding='utf-8') as file:\n",
    "    names:str = file.read()\n",
    "\n",
    "nameList:list[str] = names.split('\\n')\n",
    "\n",
    "for name in nameList:\n",
    "    print(name)"
   ]
  },
  {
   "cell_type": "code",
   "execution_count": 8,
   "metadata": {},
   "outputs": [
    {
     "name": "stdout",
     "output_type": "stream",
     "text": [
      "命名選取器(請輸入1~10)您有以下的建議名字:\n",
      "['鄧亭聿', '景歡燦', '王人仰']\n"
     ]
    }
   ],
   "source": [
    "import random\n",
    "import pyinputplus as pyip\n",
    "\n",
    "numbers:int = pyip.inputInt(\"命名選取器(請輸入1~10)\",min=1,max=10)\n",
    "print(\"您有以下的建議名字:\")\n",
    "namePart:list[str] = random.choices(nameList,k=numbers)\n",
    "print(namePart)"
   ]
  },
  {
   "cell_type": "code",
   "execution_count": 9,
   "metadata": {},
   "outputs": [
    {
     "data": {
      "text/plain": [
       "[56, 78, 92, 87, 95]"
      ]
     },
     "execution_count": 9,
     "metadata": {},
     "output_type": "execute_result"
    }
   ],
   "source": [
    "[56,78,92,87,95]"
   ]
  },
  {
   "cell_type": "code",
   "execution_count": 11,
   "metadata": {},
   "outputs": [
    {
     "data": {
      "text/plain": [
       "[57, 55, 59, 79, 49]"
      ]
     },
     "execution_count": 11,
     "metadata": {},
     "output_type": "execute_result"
    }
   ],
   "source": [
    "import random\n",
    "[random.randint(40,100),random.randint(40,100),random.randint(40,100),random.randint(40,100),random.randint(40,100)]"
   ]
  },
  {
   "cell_type": "code",
   "execution_count": 15,
   "metadata": {},
   "outputs": [
    {
     "data": {
      "text/plain": [
       "[70, 59, 41, 91, 68]"
      ]
     },
     "execution_count": 15,
     "metadata": {},
     "output_type": "execute_result"
    }
   ],
   "source": [
    "#建立一個學生的分數\n",
    "stu:list[int] = []\n",
    "scores_nums:int = 5\n",
    "for i in range(scores_nums):\n",
    "    stu.append(random.randint(40,100))\n",
    "stu"
   ]
  },
  {
   "cell_type": "code",
   "execution_count": 20,
   "metadata": {},
   "outputs": [
    {
     "name": "stdout",
     "output_type": "stream",
     "text": [
      "請輸入學生的人數(1~50):50\n",
      "['龐皓芳', 72, 64, 68, 87, 56]\n",
      "['林佳人', 42, 70, 66, 70, 53]\n",
      "['陳逸華', 91, 65, 92, 65, 61]\n",
      "['陳俊憲', 88, 48, 78, 45, 93]\n",
      "['戚亨', 73, 99, 80, 77, 56]\n",
      "['林志喜', 61, 50, 51, 54, 69]\n",
      "['劉林中', 47, 75, 98, 51, 80]\n",
      "['盧文啟', 65, 47, 58, 79, 81]\n",
      "['溫法堯', 78, 86, 94, 58, 76]\n",
      "['柯韋成', 76, 60, 66, 65, 66]\n",
      "['郭坤花', 61, 64, 57, 69, 60]\n",
      "['張軒宸', 41, 66, 74, 97, 61]\n",
      "['楊少亮', 76, 47, 83, 45, 89]\n",
      "['王品星', 61, 77, 55, 69, 68]\n",
      "['張軒宸', 54, 70, 50, 86, 73]\n",
      "['陳怡容', 92, 88, 98, 76, 75]\n",
      "['溫重意', 53, 79, 59, 91, 71]\n",
      "['童建霖', 69, 46, 68, 75, 57]\n",
      "['陳志偉', 85, 94, 48, 75, 57]\n",
      "['李雅怡', 50, 87, 72, 65, 58]\n",
      "['潘英迪', 68, 90, 71, 100, 83]\n",
      "['賴佳雯', 50, 78, 43, 58, 49]\n",
      "['謝貞妃', 40, 51, 83, 49, 90]\n",
      "['李淑芳', 81, 69, 67, 98, 71]\n",
      "['黃政甫', 80, 49, 76, 50, 59]\n",
      "['張俊傑', 56, 69, 72, 72, 96]\n",
      "['陳筱涵', 96, 77, 57, 40, 40]\n",
      "['姜琬婷', 44, 88, 51, 42, 58]\n",
      "['白世宏', 87, 82, 42, 93, 70]\n",
      "['白世宏', 65, 85, 40, 41, 99]\n",
      "['張婕妤', 73, 84, 53, 59, 98]\n",
      "['葉志峰', 63, 60, 91, 43, 50]\n",
      "['張彥博', 83, 57, 52, 76, 93]\n",
      "['趙偉銘', 82, 84, 56, 47, 46]\n",
      "['邱亭君', 53, 53, 94, 44, 77]\n",
      "['周怡啟', 67, 87, 87, 55, 67]\n",
      "['鄧亭聿', 77, 59, 51, 61, 90]\n",
      "['翁羽威', 89, 98, 65, 86, 58]\n",
      "['陳凱翔', 64, 90, 62, 88, 91]\n",
      "['張凡成', 86, 73, 66, 76, 87]\n",
      "['姜琬婷', 50, 71, 70, 87, 59]\n",
      "['葉軍仰', 47, 43, 45, 82, 51]\n",
      "['黃健發', 65, 54, 87, 72, 70]\n",
      "['許淑婷', 57, 80, 66, 72, 54]\n",
      "['陳冠霞', 74, 70, 63, 45, 50]\n",
      "['鄧亭聿', 93, 78, 80, 90, 80]\n",
      "['蔡世馨', 61, 43, 55, 68, 65]\n",
      "['劉昀天', 54, 63, 57, 94, 91]\n",
      "['張家秀', 93, 53, 57, 47, 73]\n",
      "['陳美惠', 72, 82, 43, 43, 49]\n"
     ]
    }
   ],
   "source": [
    "student_nums:int = pyip.inputInt(\"請輸入學生的人數(1~50):\",min=1,max=50)\n",
    "print(student_nums)\n",
    "names:list[str] = random.choices(nameList,k=student_nums)\n",
    "for name in names:\n",
    "    stu:list[int|str] = []\n",
    "    stu.append(name)\n",
    "    scores_nums:int = 5\n",
    "    for i in range(scores_nums):\n",
    "        stu.append(random.randint(40,100))\n",
    "    print(stu)"
   ]
  }
 ],
 "metadata": {
  "kernelspec": {
   "display_name": "Python 3",
   "language": "python",
   "name": "python3"
  },
  "language_info": {
   "codemirror_mode": {
    "name": "ipython",
    "version": 3
   },
   "file_extension": ".py",
   "mimetype": "text/x-python",
   "name": "python",
   "nbconvert_exporter": "python",
   "pygments_lexer": "ipython3",
   "version": "3.10.13"
  }
 },
 "nbformat": 4,
 "nbformat_minor": 2
}
