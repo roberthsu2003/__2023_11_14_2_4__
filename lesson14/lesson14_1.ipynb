{
 "cells": [
  {
   "cell_type": "code",
   "execution_count": 4,
   "metadata": {},
   "outputs": [
    {
     "name": "stdout",
     "output_type": "stream",
     "text": [
      "下載成功\n"
     ]
    }
   ],
   "source": [
    "#下載文字檔\n",
    "import requests\n",
    "url:str = 'https://www.moeaea.gov.tw/ECW/populace/opendata/wHandOpenData_File.ashx?set_id=248'\n",
    "response:requests.Response = requests.get(url)\n",
    "if response.status_code == 200:\n",
    "    print(\"下載成功\")\n",
    "    data:str= response.text\n",
    "elif response.status_code >= 400:\n",
    "    print(\"下載失敗\")    \n",
    "elif response.status_code > 200:\n",
    "    print(\"下載有問題\")\n",
    "\n"
   ]
  },
  {
   "cell_type": "code",
   "execution_count": 7,
   "metadata": {},
   "outputs": [],
   "source": [
    "with open(\"再生能源發電量.csv\",mode='w',encoding='utf8') as file:\n",
    "    file.write(data)\n",
    "    \n"
   ]
  },
  {
   "cell_type": "code",
   "execution_count": 16,
   "metadata": {},
   "outputs": [
    {
     "name": "stdout",
     "output_type": "stream",
     "text": [
      "{'日期(年)': '2022', '單位': '千度', '再生能源發電量合計': '23844899', '慣常水力': '5836503', '地熱': '25008', '太陽光電': '10676988', '風力_小計': '3543061', '風力_陸域': '2082798', '風力_離岸': '1460263', '生質能_小計': '158212', '生質能_固態': '118278', '生質能_氣態': '39933', '廢棄物': '3605128'}\n"
     ]
    }
   ],
   "source": [
    "#讀取csv檔,成為python的2維資料\n",
    "import csv\n",
    "with open(\"再生能源發電量.csv\",mode='r',encoding='utf8',newline='') as file:\n",
    "    dict_reader = csv.DictReader(file)\n",
    "    csv_data:list[dict] = list(dict_reader)\n",
    "    \n",
    "for item in csv_data:\n",
    "    if item['日期(年)'] == '2022':\n",
    "        print(item)"
   ]
  }
 ],
 "metadata": {
  "kernelspec": {
   "display_name": "Python 3",
   "language": "python",
   "name": "python3"
  },
  "language_info": {
   "codemirror_mode": {
    "name": "ipython",
    "version": 3
   },
   "file_extension": ".py",
   "mimetype": "text/x-python",
   "name": "python",
   "nbconvert_exporter": "python",
   "pygments_lexer": "ipython3",
   "version": "3.10.13"
  }
 },
 "nbformat": 4,
 "nbformat_minor": 2
}
